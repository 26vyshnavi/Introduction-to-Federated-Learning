{
 "cells": [
  {
   "cell_type": "code",
   "execution_count": 1,
   "id": "00cee865-2fb8-48e0-86a1-2f06d9ef5297",
   "metadata": {},
   "outputs": [
    {
     "name": "stdout",
     "output_type": "stream",
     "text": [
      "Requirement already satisfied: flwr in c:\\users\\vyshnavi\\anaconda3\\lib\\site-packages (1.14.0)\n",
      "Requirement already satisfied: cryptography<43.0.0,>=42.0.4 in c:\\users\\vyshnavi\\anaconda3\\lib\\site-packages (from flwr) (42.0.5)\n",
      "Requirement already satisfied: grpcio!=1.64.2,<2.0.0,<=1.64.3,>=1.60.0 in c:\\users\\vyshnavi\\anaconda3\\lib\\site-packages (from flwr) (1.64.3)\n",
      "Requirement already satisfied: iterators<0.0.3,>=0.0.2 in c:\\users\\vyshnavi\\anaconda3\\lib\\site-packages (from flwr) (0.0.2)\n",
      "Requirement already satisfied: numpy<3.0.0,>=1.26.0 in c:\\users\\vyshnavi\\anaconda3\\lib\\site-packages (from flwr) (1.26.4)\n",
      "Requirement already satisfied: pathspec<0.13.0,>=0.12.1 in c:\\users\\vyshnavi\\anaconda3\\lib\\site-packages (from flwr) (0.12.1)\n",
      "Requirement already satisfied: protobuf<5.0.0,>=4.25.2 in c:\\users\\vyshnavi\\anaconda3\\lib\\site-packages (from flwr) (4.25.5)\n",
      "Requirement already satisfied: pycryptodome<4.0.0,>=3.18.0 in c:\\users\\vyshnavi\\anaconda3\\lib\\site-packages (from flwr) (3.21.0)\n",
      "Requirement already satisfied: pyyaml<7.0.0,>=6.0.2 in c:\\users\\vyshnavi\\anaconda3\\lib\\site-packages (from flwr) (6.0.2)\n",
      "Requirement already satisfied: requests<3.0.0,>=2.31.0 in c:\\users\\vyshnavi\\anaconda3\\lib\\site-packages (from flwr) (2.32.2)\n",
      "Requirement already satisfied: rich<14.0.0,>=13.5.0 in c:\\users\\vyshnavi\\anaconda3\\lib\\site-packages (from flwr) (13.9.4)\n",
      "Requirement already satisfied: tomli<3.0.0,>=2.0.1 in c:\\users\\vyshnavi\\anaconda3\\lib\\site-packages (from flwr) (2.0.1)\n",
      "Requirement already satisfied: tomli-w<2.0.0,>=1.0.0 in c:\\users\\vyshnavi\\anaconda3\\lib\\site-packages (from flwr) (1.1.0)\n",
      "Requirement already satisfied: typer<0.13.0,>=0.12.5 in c:\\users\\vyshnavi\\anaconda3\\lib\\site-packages (from flwr) (0.12.5)\n",
      "Requirement already satisfied: cffi>=1.12 in c:\\users\\vyshnavi\\anaconda3\\lib\\site-packages (from cryptography<43.0.0,>=42.0.4->flwr) (1.16.0)\n",
      "Requirement already satisfied: charset-normalizer<4,>=2 in c:\\users\\vyshnavi\\anaconda3\\lib\\site-packages (from requests<3.0.0,>=2.31.0->flwr) (2.0.4)\n",
      "Requirement already satisfied: idna<4,>=2.5 in c:\\users\\vyshnavi\\anaconda3\\lib\\site-packages (from requests<3.0.0,>=2.31.0->flwr) (3.7)\n",
      "Requirement already satisfied: urllib3<3,>=1.21.1 in c:\\users\\vyshnavi\\anaconda3\\lib\\site-packages (from requests<3.0.0,>=2.31.0->flwr) (2.2.2)\n",
      "Requirement already satisfied: certifi>=2017.4.17 in c:\\users\\vyshnavi\\anaconda3\\lib\\site-packages (from requests<3.0.0,>=2.31.0->flwr) (2024.8.30)\n",
      "Requirement already satisfied: markdown-it-py>=2.2.0 in c:\\users\\vyshnavi\\anaconda3\\lib\\site-packages (from rich<14.0.0,>=13.5.0->flwr) (2.2.0)\n",
      "Requirement already satisfied: pygments<3.0.0,>=2.13.0 in c:\\users\\vyshnavi\\anaconda3\\lib\\site-packages (from rich<14.0.0,>=13.5.0->flwr) (2.15.1)\n",
      "Requirement already satisfied: click>=8.0.0 in c:\\users\\vyshnavi\\anaconda3\\lib\\site-packages (from typer<0.13.0,>=0.12.5->flwr) (8.1.7)\n",
      "Requirement already satisfied: typing-extensions>=3.7.4.3 in c:\\users\\vyshnavi\\anaconda3\\lib\\site-packages (from typer<0.13.0,>=0.12.5->flwr) (4.12.2)\n",
      "Requirement already satisfied: shellingham>=1.3.0 in c:\\users\\vyshnavi\\anaconda3\\lib\\site-packages (from typer<0.13.0,>=0.12.5->flwr) (1.5.4)\n",
      "Requirement already satisfied: pycparser in c:\\users\\vyshnavi\\anaconda3\\lib\\site-packages (from cffi>=1.12->cryptography<43.0.0,>=42.0.4->flwr) (2.21)\n",
      "Requirement already satisfied: colorama in c:\\users\\vyshnavi\\anaconda3\\lib\\site-packages (from click>=8.0.0->typer<0.13.0,>=0.12.5->flwr) (0.4.6)\n",
      "Requirement already satisfied: mdurl~=0.1 in c:\\users\\vyshnavi\\anaconda3\\lib\\site-packages (from markdown-it-py>=2.2.0->rich<14.0.0,>=13.5.0->flwr) (0.1.0)\n",
      "Note: you may need to restart the kernel to use updated packages.\n"
     ]
    }
   ],
   "source": [
    "pip install flwr"
   ]
  },
  {
   "cell_type": "code",
   "execution_count": 2,
   "id": "3793a781-9b35-4c9d-a556-5f2ca4471789",
   "metadata": {},
   "outputs": [],
   "source": [
    "from flwr.client import Client, ClientApp, NumPyClient\n",
    "from flwr.common import ndarrays_to_parameters, Context\n",
    "from flwr.server import ServerApp, ServerConfig\n",
    "from flwr.server import ServerAppComponents\n",
    "from flwr.server.strategy import FedAvg\n",
    "from flwr.simulation import run_simulation\n",
    "\n",
    "from utils2 import *"
   ]
  },
  {
   "cell_type": "code",
   "execution_count": 3,
   "id": "99ae4089-3065-42e4-ac81-b4a0599b4ca9",
   "metadata": {},
   "outputs": [],
   "source": [
    "# Setup MNIST training datasets\n",
    "trainset = datasets.MNIST(\n",
    "    \"./MNIST_data/\", download=True, train=True, transform=transform\n",
    ")\n",
    "\n",
    "total_length = len(trainset)\n",
    "split_size = total_length // 3\n",
    "torch.manual_seed(42)\n",
    "part1, part2, part3 = random_split(trainset, [split_size] * 3)\n",
    "\n",
    "part1 = exclude_digits(part1, excluded_digits=[1, 3, 7])\n",
    "part2 = exclude_digits(part2, excluded_digits=[2, 5, 8])\n",
    "part3 = exclude_digits(part3, excluded_digits=[4, 6, 9])\n",
    "\n",
    "train_sets = [part1, part2, part3]"
   ]
  },
  {
   "cell_type": "code",
   "execution_count": 4,
   "id": "765441fe-f27c-4147-a9b7-fe764b5fd38c",
   "metadata": {},
   "outputs": [
    {
     "name": "stdout",
     "output_type": "stream",
     "text": [
      "Number of examples in `testset`: 10000\n"
     ]
    }
   ],
   "source": [
    "# Setup MNIST testing datasets\n",
    "testset = datasets.MNIST(\n",
    "    \"./MNIST_data/\", download=True, train=False, transform=transform\n",
    ")\n",
    "print(\"Number of examples in `testset`:\", len(testset))\n",
    "\n",
    "testset_137 = include_digits(testset, [1, 3, 7])\n",
    "testset_258 = include_digits(testset, [2, 5, 8])\n",
    "testset_469 = include_digits(testset, [4, 6, 9])"
   ]
  },
  {
   "cell_type": "code",
   "execution_count": 5,
   "id": "039f25ac-a4fb-4a85-add2-b6e79563d858",
   "metadata": {},
   "outputs": [],
   "source": [
    "# Set functions for the client-server exchange of the training information\n",
    "# Sets the parameters of the model\n",
    "def set_weights(net, parameters):\n",
    "    params_dict = zip(net.state_dict().keys(), parameters)\n",
    "    state_dict = OrderedDict(\n",
    "        {k: torch.tensor(v) for k, v in params_dict}\n",
    "    )\n",
    "    net.load_state_dict(state_dict, strict=True)\n",
    "\n",
    "# Retrieves the parameters from the model\n",
    "def get_weights(net):\n",
    "    ndarrays = [\n",
    "        val.cpu().numpy() for _, val in net.state_dict().items()\n",
    "    ]\n",
    "    return ndarrays"
   ]
  },
  {
   "cell_type": "code",
   "execution_count": 6,
   "id": "02ec79a6-0752-4a10-84bb-04ed18bf98ab",
   "metadata": {},
   "outputs": [],
   "source": [
    "class FlowerClient(NumPyClient):\n",
    "    def __init__(self, net, trainset, testset):\n",
    "        self.net = net\n",
    "        self.trainset = trainset\n",
    "        self.testset = testset\n",
    "\n",
    "    # Train the model\n",
    "    def fit(self, parameters, config):\n",
    "        set_weights(self.net, parameters)\n",
    "        train_model(self.net, self.trainset)\n",
    "        return get_weights(self.net), len(self.trainset), {}\n",
    "\n",
    "    # Test the model\n",
    "    def evaluate(self, parameters: NDArrays, config: Dict[str, Scalar]):\n",
    "        set_weights(self.net, parameters)\n",
    "        loss, accuracy = evaluate_model(self.net, self.testset)\n",
    "        return loss, len(self.testset), {\"accuracy\": accuracy}"
   ]
  },
  {
   "cell_type": "code",
   "execution_count": 7,
   "id": "2325cb0f-b7ad-462a-b960-ce050ceb6723",
   "metadata": {},
   "outputs": [],
   "source": [
    "# Client function\n",
    "def client_fn(context: Context) -> Client:\n",
    "    net = SimpleModel()\n",
    "    partition_id = int(context.node_config[\"partition-id\"])\n",
    "    client_train = train_sets[int(partition_id)]\n",
    "    client_test = testset\n",
    "    return FlowerClient(net, client_train, client_test).to_client()"
   ]
  },
  {
   "cell_type": "code",
   "execution_count": 8,
   "id": "c8a55d64-7e6f-4f25-ab1e-0bc77fdc60bb",
   "metadata": {},
   "outputs": [],
   "source": [
    "# Create an instance of the client app\n",
    "client = ClientApp(client_fn)"
   ]
  },
  {
   "cell_type": "code",
   "execution_count": 9,
   "id": "f6959df9-8201-4f19-a74e-b270b626d05e",
   "metadata": {},
   "outputs": [],
   "source": [
    "# Define evaluate for testing \n",
    "def evaluate(server_round, parameters, config):\n",
    "    net = SimpleModel()\n",
    "    set_weights(net, parameters)\n",
    "\n",
    "    _, accuracy = evaluate_model(net, testset)\n",
    "    _, accuracy137 = evaluate_model(net, testset_137)\n",
    "    _, accuracy258 = evaluate_model(net, testset_258)\n",
    "    _, accuracy469 = evaluate_model(net, testset_469)\n",
    "\n",
    "    log(INFO, \"test accuracy on all digits: %.4f\", accuracy)\n",
    "    log(INFO, \"test accuracy on [1,3,7]: %.4f\", accuracy137)\n",
    "    log(INFO, \"test accuracy on [2,5,8]: %.4f\", accuracy258)\n",
    "    log(INFO, \"test accuracy on [4,6,9]: %.4f\", accuracy469)\n",
    "\n",
    "    if server_round == 3:\n",
    "        cm = compute_confusion_matrix(net, testset)\n",
    "        plot_confusion_matrix(cm, \"Final Global Model\")"
   ]
  },
  {
   "cell_type": "code",
   "execution_count": 10,
   "id": "77813310-c558-4636-bf3b-86212deb481b",
   "metadata": {},
   "outputs": [],
   "source": [
    "# FedAvg\n",
    "net = SimpleModel()\n",
    "params = ndarrays_to_parameters(get_weights(net))\n",
    "\n",
    "def server_fn(context: Context):\n",
    "    strategy = FedAvg(\n",
    "        fraction_fit=1.0,\n",
    "        fraction_evaluate=0.0,\n",
    "        initial_parameters=params,\n",
    "        evaluate_fn=evaluate,\n",
    "    )\n",
    "    config=ServerConfig(num_rounds=3)\n",
    "    return ServerAppComponents(\n",
    "        strategy=strategy,\n",
    "        config=config,\n",
    "    )"
   ]
  },
  {
   "cell_type": "code",
   "execution_count": 11,
   "id": "8d8823ba-5596-4f61-bbb6-6c4194f7cdb0",
   "metadata": {},
   "outputs": [],
   "source": [
    "# Create an instance of Server app\n",
    "server = ServerApp(server_fn=server_fn)"
   ]
  },
  {
   "cell_type": "code",
   "execution_count": null,
   "id": "8e86902e-7983-4cc3-9a39-24806cf2a613",
   "metadata": {},
   "outputs": [
    {
     "name": "stderr",
     "output_type": "stream",
     "text": [
      "\u001b[92mINFO \u001b[0m:      Starting Flower ServerApp, config: num_rounds=3, no round_timeout\n",
      "\u001b[92mINFO \u001b[0m:      \n",
      "\u001b[92mINFO \u001b[0m:      [INIT]\n",
      "\u001b[92mINFO \u001b[0m:      Using initial global parameters provided by strategy\n",
      "\u001b[92mINFO \u001b[0m:      Starting evaluation of initial global parameters\n",
      "\u001b[92mINFO \u001b[0m:      test accuracy on all digits: 0.1267\n",
      "\u001b[92mINFO \u001b[0m:      test accuracy on [1,3,7]: 0.2275\n",
      "\u001b[92mINFO \u001b[0m:      test accuracy on [2,5,8]: 0.1201\n",
      "\u001b[92mINFO \u001b[0m:      test accuracy on [4,6,9]: 0.0380\n",
      "\u001b[92mINFO \u001b[0m:      Evaluation returned no results (`None`)\n",
      "\u001b[92mINFO \u001b[0m:      \n",
      "\u001b[92mINFO \u001b[0m:      [ROUND 1]\n",
      "\u001b[92mINFO \u001b[0m:      configure_fit: strategy sampled 3 clients (out of 3)\n"
     ]
    }
   ],
   "source": [
    "# Initiate the simulation passing the server and client apps\n",
    "# Specify the number of super nodes that will be selected on every round\n",
    "run_simulation(\n",
    "    server_app=server,\n",
    "    client_app=client,\n",
    "    num_supernodes=3,\n",
    "    backend_config=backend_setup,\n",
    ")"
   ]
  },
  {
   "cell_type": "code",
   "execution_count": null,
   "id": "376fc6f8-395f-4515-a90b-2b208c74eeab",
   "metadata": {},
   "outputs": [],
   "source": []
  }
 ],
 "metadata": {
  "kernelspec": {
   "display_name": "Python 3 (ipykernel)",
   "language": "python",
   "name": "python3"
  },
  "language_info": {
   "codemirror_mode": {
    "name": "ipython",
    "version": 3
   },
   "file_extension": ".py",
   "mimetype": "text/x-python",
   "name": "python",
   "nbconvert_exporter": "python",
   "pygments_lexer": "ipython3",
   "version": "3.12.4"
  }
 },
 "nbformat": 4,
 "nbformat_minor": 5
}
